{
 "cells": [
  {
   "cell_type": "code",
   "execution_count": 1,
   "metadata": {},
   "outputs": [],
   "source": [
    "# Import os module that has functions to interact with the file system\n",
    "import os\n",
    "# Import module for reading CSV files\n",
    "import csv\n",
    "\n",
    "#Get current working directory\n",
    "cwkdir = os.getcwd()\n",
    "#Append file directory and make a complete file path\n",
    "filepath = os.path.join( cwkdir,'Resources','budget_data.csv')\n",
    "\n",
    "#Initialize variables\n",
    "mcount = 0; total = 0; PreValue = 0; Diff = 0; DiffMax = 0; DiffMin = 0\n"
   ]
  },
  {
   "cell_type": "code",
   "execution_count": 4,
   "metadata": {},
   "outputs": [
    {
     "name": "stdout",
     "output_type": "stream",
     "text": [
      "Financial Analysis\n",
      "\n",
      "----------------------------\n",
      "\n",
      "Total Months : 172\n",
      "Total: $ 76765156\n",
      "Greatest Increase in Profits: Feb-2012 : ($ 1926159)\n",
      "Greatest Decrease in Profits: Sep-2013 : ($ -2196167)\n"
     ]
    }
   ],
   "source": [
    "#Open and read CSV file\n",
    "with open(filepath, newline='') as csvfile:\n",
    "     csvreader = csv.reader(csvfile, delimiter=',')\n",
    "     csv_header = next(csvreader)\n",
    "     print(f'Financial Analysis'+'\\n')\n",
    "     print(f'----------------------------'+'\\n')\n",
    "     for i in csvreader:\n",
    "         month = i[0]\n",
    "         Amount = i[1]\n",
    "         iAmount = int(Amount)\n",
    "         Diff =  iAmount - PreValue\n",
    "         #Placeholder to track greatest increase in profits (financial analysis)\n",
    "         if DiffMax < Diff:\n",
    "            DiffMax = Diff\n",
    "            DiffMaxDate = month\n",
    "         #Placeholder to track greatest decrease in profits (financial analysis)\n",
    "         if DiffMin > Diff:\n",
    "            DiffMin = Diff\n",
    "            DiffMinDate = month\n",
    "\n",
    "         PreValue = iAmount   \n",
    "         # Get total months (financial analysis)\n",
    "         mcount = mcount + 1\n",
    "         total += int(Amount)\n",
    "            \n",
    "## Display Results ##      \n",
    "#The total number of months included in the dataset\n",
    "print(f'Total Months : {mcount}')\n",
    "#The total net amount of \"Profit/Losses\" over the entire period\n",
    "print(f'Total: $ {total}')\n",
    "# Greatest increase in profit\n",
    "print(f'Greatest Increase in Profits: {DiffMaxDate} : ($ {DiffMax})')\n",
    "# Greatest increase in profit\n",
    "print(f'Greatest Decrease in Profits: {DiffMinDate} : ($ {DiffMin})')"
   ]
  },
  {
   "cell_type": "code",
   "execution_count": 3,
   "metadata": {},
   "outputs": [
    {
     "name": "stdout",
     "output_type": "stream",
     "text": [
      "Total Months : 86\n",
      "Total: $ 38382578\n",
      "Greatest Increase in Profits: Feb-2012 : ($ 1926159)\n",
      "Greatest Decrease in Profits: Sep-2013 : ($ -2196167)\n"
     ]
    }
   ],
   "source": []
  },
  {
   "cell_type": "code",
   "execution_count": 8,
   "metadata": {},
   "outputs": [
    {
     "ename": "AttributeError",
     "evalue": "'_csv.reader' object has no attribute 'budget_data'",
     "output_type": "error",
     "traceback": [
      "\u001b[1;31m---------------------------------------------------------------------------\u001b[0m",
      "\u001b[1;31mAttributeError\u001b[0m                            Traceback (most recent call last)",
      "\u001b[1;32m<ipython-input-8-fac507680248>\u001b[0m in \u001b[0;36m<module>\u001b[1;34m\u001b[0m\n\u001b[0;32m      1\u001b[0m \u001b[1;31m#Reading the header row\u001b[0m\u001b[1;33m\u001b[0m\u001b[1;33m\u001b[0m\u001b[1;33m\u001b[0m\u001b[0m\n\u001b[1;32m----> 2\u001b[1;33m \u001b[0mcsv_header\u001b[0m \u001b[1;33m=\u001b[0m \u001b[0mnext\u001b[0m\u001b[1;33m(\u001b[0m\u001b[0mcsvreader\u001b[0m\u001b[1;33m.\u001b[0m\u001b[0mbudget_data\u001b[0m\u001b[1;33m)\u001b[0m\u001b[1;33m\u001b[0m\u001b[1;33m\u001b[0m\u001b[0m\n\u001b[0m",
      "\u001b[1;31mAttributeError\u001b[0m: '_csv.reader' object has no attribute 'budget_data'"
     ]
    }
   ],
   "source": []
  },
  {
   "cell_type": "code",
   "execution_count": null,
   "metadata": {},
   "outputs": [],
   "source": []
  },
  {
   "cell_type": "code",
   "execution_count": null,
   "metadata": {},
   "outputs": [],
   "source": []
  }
 ],
 "metadata": {
  "kernelspec": {
   "display_name": "Python 3",
   "language": "python",
   "name": "python3"
  },
  "language_info": {
   "codemirror_mode": {
    "name": "ipython",
    "version": 3
   },
   "file_extension": ".py",
   "mimetype": "text/x-python",
   "name": "python",
   "nbconvert_exporter": "python",
   "pygments_lexer": "ipython3",
   "version": "3.7.4"
  }
 },
 "nbformat": 4,
 "nbformat_minor": 2
}
